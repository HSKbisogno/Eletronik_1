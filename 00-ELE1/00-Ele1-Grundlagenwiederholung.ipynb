{
 "cells": [
  {
   "cell_type": "markdown",
   "id": "5d751314-1365-445f-a946-8617793d34ca",
   "metadata": {
    "tags": []
   },
   "source": [
    "<table >\n",
    "    <colgroup>\n",
    "       <col span=\"1\" style=\"width: 10%;text-align: left\">\n",
    "       <col span=\"1\" style=\"width: 20%;text-align: left\">\n",
    "    </colgroup>\n",
    "  <td style=\"background-color: white; vertical-align: top\">\n",
    "   <img src=\"FH_Koblenz.svg\" width=\"80%\" float=\"left\"/>\n",
    "  </td>\n",
    "  <td style=\"text-align:left; background-color: white; vertical-align: top\">\n",
    "    <span style=\"color:#6e6f72ff;font-size:10px\"> Prof. Dr.-Ing. Fábio Bisogno<br>Hochschule Koblenz<br>Fachbereich Ingenieurwesen<br>Elektrotechnik und Informationstechnik<br>E-mail: bisogno@hs-koblenz.de<br>Raum: G078 </span>\n",
    "  </td>\n",
    "</table>\n",
    "\n",
    "\n",
    "# Elektronik I\n",
    "\n",
    "## Grundlagenwiederholung \n",
    "\n",
    "### Schaltungstechnik, Zeitbereich, Frequenzbereich\n",
    "\n",
    "## Aufgaben\n",
    "### Gegeben sind die Schaltungen:\n",
    "\n",
    "1. Skizzieren Sie den Zeitverlauf\n",
    "1. Skizzieren Sie den Frequenzverlauf\n",
    "1. Leiten Sie die Differenzialgleichungen ab\n",
    "1. Leiten Sie die Differenzialgleichungen im Zustandsraum ab (Die Ausgangvariable ist $i_\\mathrm{a}(t)$)\n",
    "1. Leiten Sie die zeitabhängige Lösung des Stroms $i_\\mathrm{a}(t)$ mittels Laplace-Transformation her\n",
    "1. Leiten Sie die Übertragungsfunktion $G(s)=\\frac{I_\\mathrm{L}(s)}{U_\\mathrm{e}(s)}$ ab \n",
    "1. Leiten Sie die Übertragungsfunktion $G(s)=\\frac{I_\\mathrm{L}(\\mathrm{j} \\omega)}{U_\\mathrm{e}(\\mathrm{j} \\omega)}$ mittels Phasor-Gleichungen her\n",
    "1. Leiten Sie die normalisierten Parameter der Schaltungen her\n",
    "1. Entwerfen Sie eine Beispielschaltung mittels der normalisierten Parameter im Zeitbereich\n",
    "1. Entwerfen Sie eine Beispielschaltung mittels der normalisierten Parameter im Frequenzbereich\n",
    "\n",
    "| | | | |\n",
    "|:--:|:--:|:--:|:--:|\n",
    "| <img src=\"Ele1-0-Ab01.svg\" Hight=\"200\"/><br>(a) | <img src=\"Ele1-0-Ab02.svg\" height=\"200\"/><br>(b) |<img src=\"Ele1-0-Ab03.svg\" Hight=\"200\"/> <br>(c) |\n",
    "|<img src=\"Ele1-0-Ab04.svg\" Hight=\"200\"/> <br>(d) | <img src=\"Ele1-0-Ab05.svg\" Hight=\"200\"/><br>(e)  |\n",
    "| <img src=\"Ele1-0-Ab06.svg\" Hight=\"200\"/><br>(f) | <img src=\"Ele1-0-Ab07.svg\" Hight=\"200\"/> <br>(g) |\n",
    "|<img src=\"Ele1-0-Ab15.svg\" Hight=\"200\"/> <br>(h) |<img src=\"Ele1-0-Ab16.svg\" Hight=\"200\"/> <br>(i)|\n",
    "| <img src=\"Ele1-0-Ab08.svg\" Hight=\"200\"/><br>(j)| <img src=\"Ele1-0-Ab09.svg\" Hight=\"200\"/><br>(k) | <img src=\"Ele1-0-Ab10.svg\" Hight=\"200\"/><br>(l)  |\n",
    "|<img src=\"Ele1-0-Ab14.svg\" Hight=\"200\"/><br>(m) |\n",
    "\n",
    "### Lösung (d)\n",
    "\n",
    "[1. Skizzieren Sie den Zeitverlauf](00-ELE1-1-d-1.ipynb)"
   ]
  },
  {
   "cell_type": "code",
   "execution_count": 3,
   "id": "06a9dadd-8f6b-48c9-8ca0-e8270e74771a",
   "metadata": {
    "tags": []
   },
   "outputs": [
    {
     "data": {
      "text/latex": [
       "$\\displaystyle i_{R}{\\left(t \\right)} = \\frac{Ue}{R} + \\frac{\\left(Io R - Ue\\right) e^{- \\frac{R t}{L}}}{R}$"
      ],
      "text/plain": [
       "Eq(i_R(t), Ue/R + (Io*R - Ue)*exp(-R*t/L)/R)"
      ]
     },
     "metadata": {},
     "output_type": "display_data"
    },
    {
     "data": {
      "text/latex": [
       "$\\displaystyle i_{R}{\\left(t \\right)} = 10 - 10 e^{- 100.0 t}$"
      ],
      "text/plain": [
       "Eq(i_R(t), 10 - 10*exp(-100.0*t))"
      ]
     },
     "metadata": {},
     "output_type": "display_data"
    },
    {
     "data": {
      "image/png": "[encoded data removed]",
      "text/plain": [
       "<Figure size 640x480 with 1 Axes>"
      ]
     },
     "metadata": {},
     "output_type": "display_data"
    },
    {
     "data": {
      "text/latex": [
       "$\\displaystyle \\tau = \\frac{L}{R}$"
      ],
      "text/plain": [
       "Eq(tau, L/R)"
      ]
     },
     "metadata": {},
     "output_type": "display_data"
    },
    {
     "data": {
      "text/latex": [
       "$\\displaystyle \\tau = 0.01$"
      ],
      "text/plain": [
       "Eq(tau, 0.01)"
      ]
     },
     "metadata": {},
     "output_type": "display_data"
    }
   ],
   "source": [
    "import numpy as np\n",
    "import sympy as sp\n",
    "import matplotlib.pyplot as plt\n",
    "\n",
    "t,s = sp.symbols('t,s')\n",
    "Ue,Ie,R,C,L,Io=sp.symbols('Ue,Ie,R,C,L,Io',real=True)\n",
    "\n",
    "i_R = sp.Function('i_R')\n",
    "u_R = sp.Function('u_R')\n",
    "\n",
    "equ=L*i_R(t).diff(t)+R*i_R(t)-Ue\n",
    "\n",
    "i_R_t=sp.dsolve(equ,ics={i_R(0):Io})\n",
    "display(i_R_t)\n",
    "\n",
    "#Beispiel\n",
    "\n",
    "R1=1\n",
    "L1=10e-3\n",
    "Ue1=10\n",
    "tau1=L1/R1\n",
    "\n",
    "t1=np.linspace(0,5*tau1) # Zeitvektor\n",
    "\n",
    "i_R_t1=i_R_t.subs([(R,R1),(L,L1),(Ue,Ue1),(Io,0)]) #\n",
    "display(i_R_t1)\n",
    "\n",
    "i_R_t1n=sp.lambdify(t,i_R_t1.rhs, modules='numpy')\n",
    "\n",
    "plt.figure()\n",
    "plt.plot(t1,i_R_t1n(t1))\n",
    "plt.axhline(i_R_t1n(tau1),color='gray')\n",
    "plt.axvline(tau1,color='gray')\n",
    "plt.axhline(i_R_t1n(2*tau1),color='gray')\n",
    "plt.axvline(2*tau1,color='gray')\n",
    "plt.axhline(i_R_t1n(3*tau1),color='gray')\n",
    "plt.axvline(3*tau1,color='gray')\n",
    "plt.axhline(i_R_t1n(4*tau1),color='gray')\n",
    "plt.axvline(4*tau1,color='gray')\n",
    "plt.axhline(i_R_t1n(5*tau1),color='gray')\n",
    "plt.axvline(5*tau1,color='gray')\n",
    "plt.grid()\n",
    "plt.show()\n",
    "\n",
    "tau=sp.symbols('tau')\n",
    "display(sp.Eq(tau,L/R))\n",
    "display(sp.Eq(tau,L1/R1))"
   ]
  }
 ],
 "metadata": {
  "kernelspec": {
   "display_name": "Python 3 (ipykernel)",
   "language": "python",
   "name": "python3"
  },
  "language_info": {
   "codemirror_mode": {
    "name": "ipython",
    "version": 3
   },
   "file_extension": ".py",
   "mimetype": "text/x-python",
   "name": "python",
   "nbconvert_exporter": "python",
   "pygments_lexer": "ipython3",
   "version": "3.11.5"
  }
 },
 "nbformat": 4,
 "nbformat_minor": 5
}
