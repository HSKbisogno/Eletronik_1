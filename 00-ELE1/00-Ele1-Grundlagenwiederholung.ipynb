{
 "cells": [
  {
   "cell_type": "markdown",
   "id": "5d751314-1365-445f-a946-8617793d34ca",
   "metadata": {
    "tags": []
   },
   "source": [
    "<table >\n",
    "    <colgroup>\n",
    "       <col span=\"1\" style=\"width: 10%;text-align: left\">\n",
    "       <col span=\"1\" style=\"width: 20%;text-align: left\">\n",
    "    </colgroup>\n",
    "  <td style=\"background-color: white; vertical-align: top\">\n",
    "   <img src=\"FH_Koblenz.svg\" width=\"80%\" float=\"left\"/>\n",
    "  </td>\n",
    "  <td style=\"text-align:left; background-color: white; vertical-align: top\">\n",
    "    <span style=\"color:#6e6f72ff;font-size:10px\"> Prof. Dr.-Ing. Fábio Bisogno<br>Hochschule Koblenz<br>Fachbereich Ingenieurwesen<br>Elektrotechnik und Informationstechnik<br>E-mail: bisogno@hs-koblenz.de<br>Raum: G078 </span>\n",
    "  </td>\n",
    "</table>\n",
    "\n",
    "\n",
    "# Elektronik I\n",
    "\n",
    "## Grundlagenwiederholung\n",
    "\n",
    "### [periodische Funktionen, Fourier-Reihe](01-GLW-PeriodischeF/00-Ele1-GLW-PeriodischeF.ipynb)\n",
    "\n",
    "### [transiente und stationäre Zeitverläufe](02-GLW-transienteZvl/00-Ele1-GLW-transienteZvl.ipynb)\n",
    "\n",
    "### [Phasor](03-GLW-Phasor/00-Ele1-GLW-Phasor.ipynb)\n",
    "\n",
    "### Dezibel (im Aufbau)\n",
    "\n",
    "### [Schaltungstechnik, Zeitbereich, Frequenzbereich](05-GLW-Schaltungstechnik/00-Ele1-GLW-Schaltungstechnik.ipynb)\n",
    "\n",
    "### [Zweipol-Darstellung (Eintor)](06-GLW-2Poll/00-Ele1-GLW-2Poll.ipynb)\n",
    "\n",
    "### Vierpole-Darstellung (Zweitore) (im Aufbau)"
   ]
  },
  {
   "cell_type": "markdown",
   "id": "8ec8a59d-4555-4a7e-a0ca-5bcf5d6ae56b",
   "metadata": {},
   "source": [
    "### Literaturverzeichnis\n",
    "\n",
    "* Erich Boeck, Lehrgang Elektrotechnik und Elektronik, 2.Auflage, Springer Verlag\n",
    "* Ekbert Hering, Julian Endres, Jürgen Gutekunst Hrsg., Elektronik für Ingenieure und Naturwissenschaftler, 8.Auflage, Springer Verlag"
   ]
  },
  {
   "cell_type": "code",
   "execution_count": null,
   "id": "e344d376-5800-4eac-8933-ad07b278a8b7",
   "metadata": {},
   "outputs": [],
   "source": []
  }
 ],
 "metadata": {
  "kernelspec": {
   "display_name": "Python 3 (ipykernel)",
   "language": "python",
   "name": "python3"
  },
  "language_info": {
   "codemirror_mode": {
    "name": "ipython",
    "version": 3
   },
   "file_extension": ".py",
   "mimetype": "text/x-python",
   "name": "python",
   "nbconvert_exporter": "python",
   "pygments_lexer": "ipython3",
   "version": "3.11.5"
  }
 },
 "nbformat": 4,
 "nbformat_minor": 5
}
