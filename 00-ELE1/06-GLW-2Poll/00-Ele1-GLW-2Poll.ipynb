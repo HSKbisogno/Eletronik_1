{
 "cells": [
  {
   "cell_type": "markdown",
   "id": "5d751314-1365-445f-a946-8617793d34ca",
   "metadata": {
    "tags": []
   },
   "source": [
    "<table >\n",
    "    <colgroup>\n",
    "       <col span=\"1\" style=\"width: 10%;text-align: left\">\n",
    "       <col span=\"1\" style=\"width: 20%;text-align: left\">\n",
    "    </colgroup>\n",
    "  <td style=\"background-color: white; vertical-align: top\">\n",
    "   <img src=\"../FH_Koblenz.svg\" width=\"80%\" float=\"left\"/>\n",
    "  </td>\n",
    "  <td style=\"text-align:left; background-color: white; vertical-align: top\">\n",
    "    <span style=\"color:#6e6f72ff;font-size:10px\"> Prof. Dr.-Ing. Fábio Bisogno<br>Hochschule Koblenz<br>Fachbereich Ingenieurwesen<br>Elektrotechnik und Informationstechnik<br>E-mail: bisogno@hs-koblenz.de<br>Raum: G078 </span>\n",
    "  </td>\n",
    "</table>\n",
    "\n",
    "\n",
    "# Elektronik I\n",
    "\n",
    "## Grundlagenwiederholung \n",
    "\n",
    "### 2 Polldarstellung (1 Tor)\n",
    "\n",
    "## Aufgaben\n",
    "### Gegeben sind die Schaltungen:\n",
    "\n",
    "1. Berechnen die Impedance $Z_\\mathrm{e}$ für Gleichstrom, 100Hz, 1kHz und 10kHz\n",
    "2. Berechnen die Admitance $Y_\\mathrm{e}$ für Gleichstrom, 100Hz, 1kHz und 10kHz\n",
    "\n",
    "| | | | |\n",
    "|:--:|:--:|:--:|:--:|\n",
    "| <img src=\"Ele1-0-Ab33.svg\" Hight=\"200\"/><br>(a) | <img src=\"Ele1-0-Ab34.svg\" height=\"200\"/><br>(b) |<img src=\"Ele1-0-Ab35.svg\" Hight=\"200\"/> <br>(c) |\n"
   ]
  },
  {
   "cell_type": "markdown",
   "id": "9070e653-6108-4a2a-af91-8354805d9c46",
   "metadata": {
    "tags": []
   },
   "source": [
    "### Gegeben sind die Zeitverlaufskurven:\n",
    "\n",
    "1. Berechnen die Impedance und Frequenz \n",
    "2. Berechnen die Admitance und Frequenz\n",
    "\n",
    "| | | | |\n",
    "|:--:|:--:|:--:|:--:|\n",
    "| <img src=\"Ele1-0-Ab36.svg\" Hight=\"200\"/><br>(a) | <img src=\"Ele1-0-Ab37.svg\" height=\"200\"/><br>(b) |<img src=\"Ele1-0-Ab38.svg\" Hight=\"200\"/> <br>(c) |"
   ]
  },
  {
   "cell_type": "code",
   "execution_count": null,
   "id": "2402b934-a036-4397-810c-edb756e4c5f4",
   "metadata": {},
   "outputs": [],
   "source": []
  }
 ],
 "metadata": {
  "kernelspec": {
   "display_name": "Python 3 (ipykernel)",
   "language": "python",
   "name": "python3"
  },
  "language_info": {
   "codemirror_mode": {
    "name": "ipython",
    "version": 3
   },
   "file_extension": ".py",
   "mimetype": "text/x-python",
   "name": "python",
   "nbconvert_exporter": "python",
   "pygments_lexer": "ipython3",
   "version": "3.11.5"
  }
 },
 "nbformat": 4,
 "nbformat_minor": 5
}
