{
 "cells": [
  {
   "cell_type": "markdown",
   "id": "1871d8a3-dac2-4eec-a567-a1d88f751d49",
   "metadata": {},
   "source": [
    "<table >\n",
    "    <colgroup>\n",
    "       <col span=\"1\" style=\"width: 20%;text-align: left\">\n",
    "       <col span=\"1\" style=\"width: 20%;text-align: left\">\n",
    "        <col span=\"1\" style=\"width: 70%;text-align: left\">\n",
    "    </colgroup>\n",
    "  <td style=\"background-color: white; vertical-align: top\">\n",
    "   <img src=\"../../FH_Koblenz.svg\" width=\"100%\" float=\"left\"/>\n",
    "  </td>\n",
    "  <td style=\"text-align:left; background-color: white; vertical-align: top; line-height: 0.8;\">\n",
    "    <span style=\"color:#6e6f72ff;font-size:10px\"> Prof. Dr.-Ing. Fábio Bisogno<br>Hochschule Koblenz<br>Fachbereich Ingenieurwesen<br>Elektrotechnik und Informationstechnik<br>E-mail: bisogno@hs-koblenz.de<br>Raum: G078 </span>\n",
    "  </td>\n",
    "    <td style=\"text-align:left; background-color: white; vertical-align: top\">\n",
    "    <span style=\"color:#6e6f72ff;font-size:10px\"> </span>\n",
    "  </td>\n",
    "</table>\n",
    "\n",
    "# Elektronik I\n",
    "\n",
    "## Aufgaben (1)\n",
    "\n",
    "<img src=\"../Ele1-0-Ab01.svg\" width=\"200\"/>\n",
    "\n",
    "9. Entwerfen Sie eine Beispielschaltung mittels der normalisierten Parameter im Zeitbereich"
   ]
  },
  {
   "cell_type": "code",
   "execution_count": 1,
   "id": "c9c71130-b5ea-4c1b-af61-5ad5c80a27d0",
   "metadata": {},
   "outputs": [
    {
     "name": "stdout",
     "output_type": "stream",
     "text": [
      "R = 2.0 Ohm\n"
     ]
    }
   ],
   "source": [
    "# Entwurfbeispiel (Zeitraum)\n",
    "########################################################################\n",
    "# Entwerfen Sie eine Schaltung im Zeitraum mit folgenden Parametern\n",
    "\n",
    "Ue = 10  # Eingangsspannung\n",
    "Io = 5   # Ausgangsstrom im eingeschwungenen Zustand\n",
    "\n",
    "########################################################################\n",
    "\n",
    "# Schaltungsentwurf\n",
    "R = Ue / Io  # Lastwiderstand\n",
    "print(f'R = {R} Ohm')"
   ]
  },
  {
   "cell_type": "code",
   "execution_count": 2,
   "id": "6dab15e9-1067-48c4-92fa-b8572dec13f8",
   "metadata": {
    "tags": []
   },
   "outputs": [
    {
     "data": {
      "image/png": "[encoded data removed]",
      "text/plain": [
       "<Figure size 640x480 with 1 Axes>"
      ]
     },
     "metadata": {},
     "output_type": "display_data"
    }
   ],
   "source": [
    "import numpy as np\n",
    "import matplotlib.pyplot as plt\n",
    "\n",
    "t=np.linspace(0,5)\n",
    "\n",
    "ia=Ue/R*(1)+0*t\n",
    "\n",
    "plt.figure()\n",
    "plt.plot(t,ia)\n",
    "plt.title('Zeitverlauf des RL-Kreises')\n",
    "plt.xlabel('$t [s]$')\n",
    "plt.ylabel('$i_\\mathrm{a} [A]$')\n",
    "plt.ylim(0,6)\n",
    "plt.grid()\n",
    "plt.show()"
   ]
  },
  {
   "cell_type": "markdown",
   "id": "44093a3e-7051-4ed8-be39-a50797e1f66a",
   "metadata": {},
   "source": [
    "## LTspice Simulation\n",
    "\n",
    "# <img src='1-a-01-01.svg' width=\"700\"/>"
   ]
  },
  {
   "cell_type": "code",
   "execution_count": null,
   "id": "bebca165-a19b-4baa-b352-8dcf9143e363",
   "metadata": {},
   "outputs": [],
   "source": []
  }
 ],
 "metadata": {
  "kernelspec": {
   "display_name": "Python 3 (ipykernel)",
   "language": "python",
   "name": "python3"
  },
  "language_info": {
   "codemirror_mode": {
    "name": "ipython",
    "version": 3
   },
   "file_extension": ".py",
   "mimetype": "text/x-python",
   "name": "python",
   "nbconvert_exporter": "python",
   "pygments_lexer": "ipython3",
   "version": "3.11.5"
  }
 },
 "nbformat": 4,
 "nbformat_minor": 5
}
