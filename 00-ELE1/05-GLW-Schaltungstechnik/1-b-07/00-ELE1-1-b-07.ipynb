{
 "cells": [
  {
   "cell_type": "markdown",
   "id": "1871d8a3-dac2-4eec-a567-a1d88f751d49",
   "metadata": {},
   "source": [
    "<table >\n",
    "    <colgroup>\n",
    "       <col span=\"1\" style=\"width: 20%;text-align: left\">\n",
    "       <col span=\"1\" style=\"width: 20%;text-align: left\">\n",
    "        <col span=\"1\" style=\"width: 70%;text-align: left\">\n",
    "    </colgroup>\n",
    "  <td style=\"background-color: white; vertical-align: top\">\n",
    "   <img src=\"../../FH_Koblenz.svg\" width=\"100%\" float=\"left\"/>\n",
    "  </td>\n",
    "  <td style=\"text-align:left; background-color: white; vertical-align: top; line-height: 0.8;\">\n",
    "    <span style=\"color:#6e6f72ff;font-size:10px\"> Prof. Dr.-Ing. Fábio Bisogno<br>Hochschule Koblenz<br>Fachbereich Ingenieurwesen<br>Elektrotechnik und Informationstechnik<br>E-mail: bisogno@hs-koblenz.de<br>Raum: G078 </span>\n",
    "  </td>\n",
    "    <td style=\"text-align:left; background-color: white; vertical-align: top\">\n",
    "    <span style=\"color:#6e6f72ff;font-size:10px\"> </span>\n",
    "  </td>\n",
    "</table>\n",
    "\n",
    "# Elektronik I\n",
    "\n",
    "## Aufgaben (b)\n",
    "\n",
    "<img src=\"../Ele1-0-Ab02.svg\" width=\"200\"/>\n",
    "\n",
    "7. Leiten Sie die Übertragungsfunktion $G(s)=\\frac{I_\\mathrm{L}(\\mathrm{j} \\omega)}{U_\\mathrm{e}(\\mathrm{j} \\omega)}$ mittels Phasor-Gleichungen her\n",
    "\n",
    "Impedanzen der Schaltung<br>\n",
    "$Z_\\mathrm{L}=\\mathrm{j} \\omega L$\n",
    "\n",
    "Kirchhoffsches Spannungsgesetz (KVL)<br>\n",
    "$-U_\\mathrm{e}(s)+Z_\\mathrm{L}~I_\\mathrm{a}(\\mathrm{j} \\omega) = 0 $\n",
    "\n",
    "$(\\mathrm{j} \\omega L)~I_\\mathrm{a}(\\mathrm{j} \\omega) = U_\\mathrm{e}(\\mathrm{j} \\omega)$\n",
    "\n",
    "---------------------------------------------\n",
    "\n",
    "$\\frac{I_\\mathrm{a}(\\mathrm{j} \\omega)}{U_\\mathrm{e}(\\mathrm{j} \\omega)} =\\frac{1}{\\mathrm{j} \\omega L}$\n",
    "\n",
    "---------------------------------------------"
   ]
  }
 ],
 "metadata": {
  "kernelspec": {
   "display_name": "Python 3 (ipykernel)",
   "language": "python",
   "name": "python3"
  },
  "language_info": {
   "codemirror_mode": {
    "name": "ipython",
    "version": 3
   },
   "file_extension": ".py",
   "mimetype": "text/x-python",
   "name": "python",
   "nbconvert_exporter": "python",
   "pygments_lexer": "ipython3",
   "version": "3.11.5"
  }
 },
 "nbformat": 4,
 "nbformat_minor": 5
}
