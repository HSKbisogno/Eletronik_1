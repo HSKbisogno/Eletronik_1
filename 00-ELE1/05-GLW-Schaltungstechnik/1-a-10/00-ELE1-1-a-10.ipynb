{
 "cells": [
  {
   "cell_type": "markdown",
   "id": "1871d8a3-dac2-4eec-a567-a1d88f751d49",
   "metadata": {},
   "source": [
    "<table >\n",
    "    <colgroup>\n",
    "       <col span=\"1\" style=\"width: 20%;text-align: left\">\n",
    "       <col span=\"1\" style=\"width: 20%;text-align: left\">\n",
    "        <col span=\"1\" style=\"width: 70%;text-align: left\">\n",
    "    </colgroup>\n",
    "  <td style=\"background-color: white; vertical-align: top\">\n",
    "   <img src=\"../../FH_Koblenz.svg\" width=\"100%\" float=\"left\"/>\n",
    "  </td>\n",
    "  <td style=\"text-align:left; background-color: white; vertical-align: top; line-height: 0.8;\">\n",
    "    <span style=\"color:#6e6f72ff;font-size:10px\"> Prof. Dr.-Ing. Fábio Bisogno<br>Hochschule Koblenz<br>Fachbereich Ingenieurwesen<br>Elektrotechnik und Informationstechnik<br>E-mail: bisogno@hs-koblenz.de<br>Raum: G078 </span>\n",
    "  </td>\n",
    "    <td style=\"text-align:left; background-color: white; vertical-align: top\">\n",
    "    <span style=\"color:#6e6f72ff;font-size:10px\"> </span>\n",
    "  </td>\n",
    "</table>\n",
    "\n",
    "# Elektronik I\n",
    "\n",
    "## Aufgaben (a)\n",
    "\n",
    "<img src=\"../Ele1-0-Ab01.svg\" width=\"200\"/>\n",
    "\n",
    "Entwerfen Sie eine Beispielschaltung mittels der normalisierten Parameter im Frequenzbereich"
   ]
  },
  {
   "cell_type": "code",
   "execution_count": 1,
   "id": "c9c71130-b5ea-4c1b-af61-5ad5c80a27d0",
   "metadata": {},
   "outputs": [
    {
     "name": "stdout",
     "output_type": "stream",
     "text": [
      "R = 2.0 Ohm\n"
     ]
    }
   ],
   "source": [
    "# Entwurfbeispiel (Frequenzraum)\n",
    "import numpy as np\n",
    "import matplotlib.pyplot as plt\n",
    "\n",
    "########################################################################\n",
    "# Entwerfen Sie eine Schaltung im Frequenzraum mit folgenden Parametern\n",
    "\n",
    "Ue = 10  # Eingangsspannung AC\n",
    "Io = 5   # Ausgangsstrom im Durchlassbereich\n",
    "\n",
    "########################################################################\n",
    "\n",
    "# Schaltungsentwurf\n",
    "R = Ue / Io  # Lastwiderstand\n",
    "print(f'R = {R} Ohm')\n"
   ]
  },
  {
   "cell_type": "code",
   "execution_count": 3,
   "id": "a13e451d-5c85-4f6f-83ed-ad980d48e3f4",
   "metadata": {
    "tags": []
   },
   "outputs": [
    {
     "name": "stdout",
     "output_type": "stream",
     "text": [
      "Io im Durchlassbereich [dB]=13.979400086720377\n"
     ]
    },
    {
     "data": {
      "image/png": "[encoded data removed]",
      "text/plain": [
       "<Figure size 640x480 with 2 Axes>"
      ]
     },
     "metadata": {},
     "output_type": "display_data"
    }
   ],
   "source": [
    "# Strom (Ia)/(1A)\n",
    "# Ausgangsstrom im Durchlassbereich (5A)/(1A)\n",
    "# Iref=(1A)\n",
    "\n",
    "Iodb=20*np.log10(Io/1) # Vertärkunsfaktor in [dB]\n",
    "\n",
    "w=np.logspace(2,7,200) # Vektor der Kreisfrequenz\n",
    "\n",
    "Iow=Ue/(R)+0*w # Io in Abhängigkeit von w\n",
    "Gdb=20*np.log10(abs(Iow)) # Io in [dB]\n",
    "\n",
    "GPh=np.angle(Iow,deg=True) # Phasenverschiebung bei der Grenzfrequenz in [°]\n",
    "\n",
    "print(f'Io im Durchlassbereich [dB]={Iodb}')\n",
    "\n",
    "fig,(ax0,ax1) = plt.subplots(2)\n",
    "ax0.axhline(Iodb,color='gray')\n",
    "ax0.plot(w,Gdb)\n",
    "ax0.set_xscale('log')\n",
    "ax0.grid(which='both')\n",
    "\n",
    "fig.suptitle('Frequenzverlauf des RL-Kreises $I_\\mathrm{a}/(1~\\mathrm{A})$ (Bode Diagram)')\n",
    "ax1.set_xlabel('$\\omega [\\mathrm{rad/s}]$')\n",
    "ax0.set_ylabel('$[dB]$')\n",
    "\n",
    "ax1.plot(w,GPh)\n",
    "ax1.set_ylabel('$[°]$')\n",
    "ax1.set_xscale('log')\n",
    "ax1.grid(which='both')\n",
    "ax1.set_yticks([-90,-45,0,45,90])\n",
    "\n",
    "None"
   ]
  },
  {
   "cell_type": "markdown",
   "id": "b6633206-5bbb-4f67-92f5-19a060111961",
   "metadata": {},
   "source": [
    "## LTspice Simulation\n",
    "\n",
    "<img src='1-a-01-01.svg' width=\"700\"/>"
   ]
  },
  {
   "cell_type": "code",
   "execution_count": null,
   "id": "de18513c-85cf-417e-b34a-cef1d8a37259",
   "metadata": {},
   "outputs": [],
   "source": []
  }
 ],
 "metadata": {
  "kernelspec": {
   "display_name": "Python 3 (ipykernel)",
   "language": "python",
   "name": "python3"
  },
  "language_info": {
   "codemirror_mode": {
    "name": "ipython",
    "version": 3
   },
   "file_extension": ".py",
   "mimetype": "text/x-python",
   "name": "python",
   "nbconvert_exporter": "python",
   "pygments_lexer": "ipython3",
   "version": "3.11.5"
  }
 },
 "nbformat": 4,
 "nbformat_minor": 5
}
